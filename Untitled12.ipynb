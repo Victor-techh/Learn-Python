{
  "nbformat": 4,
  "nbformat_minor": 0,
  "metadata": {
    "colab": {
      "provenance": [],
      "authorship_tag": "ABX9TyOK7HZobPm+sk26dTZtCQLU",
      "include_colab_link": true
    },
    "kernelspec": {
      "name": "python3",
      "display_name": "Python 3"
    },
    "language_info": {
      "name": "python"
    }
  },
  "cells": [
    {
      "cell_type": "markdown",
      "metadata": {
        "id": "view-in-github",
        "colab_type": "text"
      },
      "source": [
        "<a href=\"https://colab.research.google.com/github/Victor-techh/Learn-Python/blob/main/Untitled12.ipynb\" target=\"_parent\"><img src=\"https://colab.research.google.com/assets/colab-badge.svg\" alt=\"Open In Colab\"/></a>"
      ]
    },
    {
      "cell_type": "code",
      "source": [
        "#Melhore o jogo do DESAFIO 28 onde o computador vai “pensar” em um número entre 0 e 10.\n",
        "#Só que agora o jogador vai tentar adivinhar até acertar, mostrando no final quantos palpites foram\n",
        "#necessários para vencer.\n",
        "\n",
        "#importando módulos.\n",
        "import random\n",
        "\n",
        "#Gerandor de número aleatorio.\n",
        "numero_do_computador = random.randint(0,10)\n",
        "#contador\n",
        "tentativas = 0\n",
        "#interação\n",
        "\n",
        "while True: #loop principal do jogo\n",
        "  while True: #loop que valida a entrada o usuario solicitando um numero inteiro\n",
        "    try:\n",
        "      palpite_usuario = int(input('Digite um número entre 0 e 10:\\n'))\n",
        "      break\n",
        "    except ValueError:\n",
        "      print('-'*50)\n",
        "      print('Você não digitou uma número válido, tente novamente:\\n')\n",
        "\n",
        "  if palpite_usuario > 10 or palpite_usuario < 0:\n",
        "    print('-'*50)\n",
        "    palpite_usuario = int(input('INVALIDO! Digite um número entre 0 e 10:\\n'))\n",
        "  else:\n",
        "    tentativas += 1\n",
        "    if palpite_usuario == numero_do_computador:\n",
        "      print('-'*50)\n",
        "      print(f'Parabéns, você acertou. Eu pensei no número {numero_do_computador}.')\n",
        "      print(f'Você precisou de {tentativas} tentativas para acertar.')\n",
        "      break\n",
        "    else:\n",
        "      print('-'*50)\n",
        "      print('Você errou, tente novamente.')\n",
        "#fim"
      ],
      "metadata": {
        "id": "gc8umVEJy_2C",
        "colab": {
          "base_uri": "https://localhost:8080/"
        },
        "outputId": "33b748f3-baf3-44a7-9e0e-a9299bab9d85"
      },
      "execution_count": 6,
      "outputs": [
        {
          "output_type": "stream",
          "name": "stdout",
          "text": [
            "Digite um número entre 0 e 10:\n",
            "a\n",
            "--------------------------------------------------\n",
            "Você não digitou uma número válido, tente novamente:\n",
            "\n",
            "Digite um número entre 0 e 10:\n",
            "s\n",
            "--------------------------------------------------\n",
            "Você não digitou uma número válido, tente novamente:\n",
            "\n",
            "Digite um número entre 0 e 10:\n",
            "1\n",
            "--------------------------------------------------\n",
            "Parabéns, você acertou. Eu pensei no número 1.\n",
            "Você precisou de 1 tentativas para acertar.\n"
          ]
        }
      ]
    }
  ]
}