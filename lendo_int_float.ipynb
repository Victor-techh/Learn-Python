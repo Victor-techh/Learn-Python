{
  "nbformat": 4,
  "nbformat_minor": 0,
  "metadata": {
    "colab": {
      "provenance": [],
      "authorship_tag": "ABX9TyMaE+YJBa2zL2wB5Ea1K4zh",
      "include_colab_link": true
    },
    "kernelspec": {
      "name": "python3",
      "display_name": "Python 3"
    },
    "language_info": {
      "name": "python"
    }
  },
  "cells": [
    {
      "cell_type": "markdown",
      "metadata": {
        "id": "view-in-github",
        "colab_type": "text"
      },
      "source": [
        "<a href=\"https://colab.research.google.com/github/Victor-techh/Learn-Python/blob/main/lendo_int_float.ipynb\" target=\"_parent\"><img src=\"https://colab.research.google.com/assets/colab-badge.svg\" alt=\"Open In Colab\"/></a>"
      ]
    },
    {
      "cell_type": "code",
      "execution_count": null,
      "metadata": {
        "colab": {
          "base_uri": "https://localhost:8080/"
        },
        "id": "C-e0gdr_lGby",
        "outputId": "53d059e6-93c2-4626-a18f-9de16a0a2955"
      },
      "outputs": [
        {
          "output_type": "stream",
          "name": "stdout",
          "text": [
            "Mounted at /content/Drive\n",
            "Drive montado com sucesso!\n"
          ]
        }
      ],
      "source": [
        "#montando o drive\n",
        "\n",
        "from google.colab import drive\n",
        "drive.mount('/content/Drive')\n",
        "print('Drive montado com sucesso!')"
      ]
    },
    {
      "cell_type": "code",
      "source": [
        "import sys\n",
        "import os\n",
        "\n",
        "# Defina o caminho para a pasta que contém seu pacote 'meu_pacote_modulos_1' no Google Drive.\n",
        "# Certifique-se de que este caminho está correto!\n",
        "DIRETORIO_PAI_PACOTE = '/content/Drive/MyDrive/ColabNotebooks/Pacotes'\n",
        "\n",
        "# Adiciona o diretório pai do pacote ao sys.path\n",
        "if DIRETORIO_PAI_PACOTE not in sys.path:\n",
        "    sys.path.append(DIRETORIO_PAI_PACOTE)\n",
        "    print(f\"'{DIRETORIO_PAI_PACOTE}' adicionado ao sys.path\")\n",
        "else:\n",
        "    print(f\"'{DIRETORIO_PAI_PACOTE}' já está no sys.path\")\n",
        "\n",
        "# Opcional: Verificar o sys.path para confirmar\n",
        "# print(sys.path)"
      ],
      "metadata": {
        "colab": {
          "base_uri": "https://localhost:8080/"
        },
        "id": "QV03uUEgo2em",
        "outputId": "6b7bddc5-20d9-4e62-e8b8-3f3184fa941e"
      },
      "execution_count": null,
      "outputs": [
        {
          "output_type": "stream",
          "name": "stdout",
          "text": [
            "'/content/Drive/MyDrive/ColabNotebooks/Pacotes' adicionado ao sys.path\n"
          ]
        }
      ]
    },
    {
      "cell_type": "code",
      "source": [
        "from meu_pacote_modulos_1 import leia\n",
        "from meu_pacote_modulos_1 import leia\n",
        "\n",
        "\n",
        "#programa principal:\n",
        "num = leia.leiaInt('Digite um número inteiro: ')\n",
        "print(f'O valor digitado foi {num}')\n",
        "\n",
        "num_2 = leia.leiaFloat('Digite um número decimal com \".\": ')\n",
        "print(f'O valor digitado foi {num_2}')"
      ],
      "metadata": {
        "colab": {
          "base_uri": "https://localhost:8080/"
        },
        "id": "qaLuT0s_o3Fo",
        "outputId": "a3f3e513-2525-42f4-cb34-4b06cd0c216a"
      },
      "execution_count": null,
      "outputs": [
        {
          "output_type": "stream",
          "name": "stdout",
          "text": [
            "Digite um número inteiro: \n",
            "\u001b[1;33mErro!!! Por favor digite um número interio válido.\u001b[0m\n",
            "Digite um número inteiro: fdafdafdsa\n",
            "\u001b[1;33mErro!!! Por favor digite um número interio válido.\u001b[0m\n",
            "Digite um número inteiro: 36\n",
            "O valor digitado foi 36\n",
            "Digite um número decimal com \".\": dfdfdfdfdfdf\n",
            "\u001b[1;33mErro!!! Por favor digite um número decimal.\u001b[0m\n",
            "Digite um número decimal com \".\": 3.6\n",
            "O valor digitado foi 3.6\n"
          ]
        }
      ]
    }
  ]
}