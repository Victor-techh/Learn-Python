{
  "nbformat": 4,
  "nbformat_minor": 0,
  "metadata": {
    "colab": {
      "provenance": [],
      "authorship_tag": "ABX9TyNRexiJenAM/jvPJI6Kbrw1",
      "include_colab_link": true
    },
    "kernelspec": {
      "name": "python3",
      "display_name": "Python 3"
    },
    "language_info": {
      "name": "python"
    }
  },
  "cells": [
    {
      "cell_type": "markdown",
      "metadata": {
        "id": "view-in-github",
        "colab_type": "text"
      },
      "source": [
        "<a href=\"https://colab.research.google.com/github/Victor-techh/Learn-Python/blob/main/meu_primeiro_projeto_analise_de_dados.ipynb\" target=\"_parent\"><img src=\"https://colab.research.google.com/assets/colab-badge.svg\" alt=\"Open In Colab\"/></a>"
      ]
    },
    {
      "cell_type": "code",
      "execution_count": 2,
      "metadata": {
        "colab": {
          "base_uri": "https://localhost:8080/"
        },
        "id": "hZM5qlrqJCqT",
        "outputId": "6c366d47-2b3b-40b8-e4b1-12966ad3f5f2"
      },
      "outputs": [
        {
          "output_type": "stream",
          "name": "stdout",
          "text": [
            "Bibliotecas importadas com sucesso\n"
          ]
        }
      ],
      "source": [
        "#modulos\n",
        "import pandas as pd\n",
        "import matplotlib.pyplot as plt\n",
        "import seaborn as sns\n",
        "\n",
        "print('Bibliotecas importadas com sucesso')"
      ]
    },
    {
      "cell_type": "code",
      "source": [
        "#dados ficticios\n",
        "#modulos\n",
        "import numpy as np\n",
        "\n",
        "#gerando dados de exemplo\n",
        "np.random.seed(42)#resultados reproduziveis\n",
        "print(np.random.rand(3))\n"
      ],
      "metadata": {
        "colab": {
          "base_uri": "https://localhost:8080/"
        },
        "id": "9xCo4FBoNacj",
        "outputId": "ee60e086-378f-4ade-877b-17aa23fb9ec3"
      },
      "execution_count": 15,
      "outputs": [
        {
          "output_type": "stream",
          "name": "stdout",
          "text": [
            "\u001b[32m[0.37454012 0.95071431 0.73199394]\u001b[0m\n"
          ]
        }
      ]
    }
  ]
}